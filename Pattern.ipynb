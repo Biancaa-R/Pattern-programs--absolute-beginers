{
  "nbformat": 4,
  "nbformat_minor": 0,
  "metadata": {
    "colab": {
      "name": "Pattern.ipynb",
      "provenance": [],
      "authorship_tag": "ABX9TyOKwKEZxs9C0yIobXYCCzOG",
      "include_colab_link": true
    },
    "kernelspec": {
      "name": "python3",
      "display_name": "Python 3"
    },
    "language_info": {
      "name": "python"
    }
  },
  "cells": [
    {
      "cell_type": "markdown",
      "metadata": {
        "id": "view-in-github",
        "colab_type": "text"
      },
      "source": [
        "<a href=\"https://colab.research.google.com/github/Biancaa-R/Pattern-programs--absolute-beginers/blob/main/Pattern.ipynb\" target=\"_parent\"><img src=\"https://colab.research.google.com/assets/colab-badge.svg\" alt=\"Open In Colab\"/></a>"
      ]
    },
    {
      "cell_type": "markdown",
      "metadata": {
        "id": "f8tqCAxhAB-Z"
      },
      "source": [
        "#Pattern programs to try when you have nothing else to do."
      ]
    },
    {
      "cell_type": "markdown",
      "metadata": {
        "id": "6PqG1a6o5qVg"
      },
      "source": [
        "**Number triangle**"
      ]
    },
    {
      "cell_type": "code",
      "metadata": {
        "colab": {
          "base_uri": "https://localhost:8080/"
        },
        "id": "xQPjFVgDhuKx",
        "outputId": "5152363c-381d-4937-f82d-88d241ef1a58"
      },
      "source": [
        "for i in range (0,10):\n",
        "    for j in range(0,i):\n",
        "        print(i,end=\" \")\n",
        "    print(\" \")"
      ],
      "execution_count": null,
      "outputs": [
        {
          "output_type": "stream",
          "text": [
            " \n",
            "1  \n",
            "2 2  \n",
            "3 3 3  \n",
            "4 4 4 4  \n",
            "5 5 5 5 5  \n",
            "6 6 6 6 6 6  \n",
            "7 7 7 7 7 7 7  \n",
            "8 8 8 8 8 8 8 8  \n",
            "9 9 9 9 9 9 9 9 9  \n"
          ],
          "name": "stdout"
        }
      ]
    },
    {
      "cell_type": "markdown",
      "metadata": {
        "id": "O-oKcvxY7428"
      },
      "source": [
        "**Increasing decreasing pyramid on y axis**"
      ]
    },
    {
      "cell_type": "code",
      "metadata": {
        "colab": {
          "base_uri": "https://localhost:8080/"
        },
        "id": "5hOwlWXri_dA",
        "outputId": "45619e26-3478-4f54-a24e-78b8d73425c1"
      },
      "source": [
        "for i in range (0,10):\n",
        "    for j in range(0,i):\n",
        "        print(i,end=\" \")\n",
        "    print(\" \")\n",
        "for i in range(1,11):\n",
        "    print(0,end=\" \")\n",
        "print(\" \")    \n",
        "\n",
        "for i in range (9,0,-1):\n",
        "    for j in range(0,i):\n",
        "        print(i,end=\" \")\n",
        "    print(\" \")\n",
        "\n"
      ],
      "execution_count": null,
      "outputs": [
        {
          "output_type": "stream",
          "text": [
            " \n",
            "1  \n",
            "2 2  \n",
            "3 3 3  \n",
            "4 4 4 4  \n",
            "5 5 5 5 5  \n",
            "6 6 6 6 6 6  \n",
            "7 7 7 7 7 7 7  \n",
            "8 8 8 8 8 8 8 8  \n",
            "9 9 9 9 9 9 9 9 9  \n",
            "0 0 0 0 0 0 0 0 0 0  \n",
            "9 9 9 9 9 9 9 9 9  \n",
            "8 8 8 8 8 8 8 8  \n",
            "7 7 7 7 7 7 7  \n",
            "6 6 6 6 6 6  \n",
            "5 5 5 5 5  \n",
            "4 4 4 4  \n",
            "3 3 3  \n",
            "2 2  \n",
            "1  \n"
          ],
          "name": "stdout"
        }
      ]
    },
    {
      "cell_type": "markdown",
      "metadata": {
        "id": "fe_qHrYp8Hn4"
      },
      "source": [
        "**Inverted number Triangle**"
      ]
    },
    {
      "cell_type": "code",
      "metadata": {
        "colab": {
          "base_uri": "https://localhost:8080/"
        },
        "id": "OEwuCAVSkNCm",
        "outputId": "a6bf97b2-1802-4907-be01-5d31825df572"
      },
      "source": [
        "for i in range(9, 0, -1):\n",
        "    for j in range(0, i):\n",
        "        print(i, end=\" \")\n",
        "    print(\"\\r\")"
      ],
      "execution_count": null,
      "outputs": [
        {
          "output_type": "stream",
          "text": [
            "9 9 9 9 9 9 9 9 9 \r\n",
            "8 8 8 8 8 8 8 8 \r\n",
            "7 7 7 7 7 7 7 \r\n",
            "6 6 6 6 6 6 \r\n",
            "5 5 5 5 5 \r\n",
            "4 4 4 4 \r\n",
            "3 3 3 \r\n",
            "2 2 \r\n",
            "1 \r\n"
          ],
          "name": "stdout"
        }
      ]
    },
    {
      "cell_type": "markdown",
      "metadata": {
        "id": "3MMS_qPKQ_sW"
      },
      "source": [
        "Inverted number pyramid starting from lower number"
      ]
    },
    {
      "cell_type": "code",
      "metadata": {
        "colab": {
          "base_uri": "https://localhost:8080/"
        },
        "id": "dxdHc8jaQ9lX",
        "outputId": "e843d36e-aa83-445f-882d-add1b647bec3"
      },
      "source": [
        "rows = 10\n",
        "b = 0\n",
        "# reverse for loop from 5 to 0\n",
        "for i in range(rows, 0, -1):\n",
        "    b += 1\n",
        "    for j in range(1, i + 1):\n",
        "        print(b, end=' ')\n",
        "    print('\\r')"
      ],
      "execution_count": 61,
      "outputs": [
        {
          "output_type": "stream",
          "text": [
            "1 1 1 1 1 1 1 1 1 1 \r\n",
            "2 2 2 2 2 2 2 2 2 \r\n",
            "3 3 3 3 3 3 3 3 \r\n",
            "4 4 4 4 4 4 4 \r\n",
            "5 5 5 5 5 5 \r\n",
            "6 6 6 6 6 \r\n",
            "7 7 7 7 \r\n",
            "8 8 8 \r\n",
            "9 9 \r\n",
            "10 \r\n"
          ],
          "name": "stdout"
        }
      ]
    },
    {
      "cell_type": "markdown",
      "metadata": {
        "id": "n-X2sSgF4VSg"
      },
      "source": [
        "**Steepy mountain**\n",
        "\n",
        "program to print mointain steeping to left, making obtuse angle with x axis. \n",
        "\n",
        "\n",
        "common mistake:\n",
        "\n",
        "do not declare value inside the i iteration.\n",
        "\n",
        "\n",
        "\n",
        "```\n",
        "\n",
        "for i in range (0,10):\n",
        "    value=[\"*\"]\n",
        "    for j in value:\n",
        "        print(j,end=\" \")\n",
        "```\n",
        "please dont do this if you do the changes will not be updated.\n",
        "\n",
        "(you will get a long vertical line of *)\n"
      ]
    },
    {
      "cell_type": "code",
      "metadata": {
        "colab": {
          "base_uri": "https://localhost:8080/"
        },
        "id": "jdLm_928pPVj",
        "outputId": "59c5ceff-50a8-4247-dd99-4d2c75a22ee9"
      },
      "source": [
        "value=[\"*\"]\n",
        "for i in range (0,10):\n",
        "    for j in value:\n",
        "        print(j,end=\" \")\n",
        "    print(\" \")    \n",
        "    value.append(\" * \")\n",
        "    value.insert(0,\"  \")    \n"
      ],
      "execution_count": null,
      "outputs": [
        {
          "output_type": "stream",
          "text": [
            "*  \n",
            "   *  *   \n",
            "      *  *   *   \n",
            "         *  *   *   *   \n",
            "            *  *   *   *   *   \n",
            "               *  *   *   *   *   *   \n",
            "                  *  *   *   *   *   *   *   \n",
            "                     *  *   *   *   *   *   *   *   \n",
            "                        *  *   *   *   *   *   *   *   *   \n",
            "                           *  *   *   *   *   *   *   *   *   *   \n"
          ],
          "name": "stdout"
        }
      ]
    },
    {
      "cell_type": "markdown",
      "metadata": {
        "id": "Nprs683V8QZk"
      },
      "source": [
        "**Inverted pyramid of same number**"
      ]
    },
    {
      "cell_type": "code",
      "metadata": {
        "colab": {
          "base_uri": "https://localhost:8080/"
        },
        "id": "0lKQxapy6tBO",
        "outputId": "66fb6852-04b7-4253-ced9-c3162f37d951"
      },
      "source": [
        "#inverted triangle of same number\n",
        "nm=5\n",
        "for i in range (10,0,-1):\n",
        "    for j in range(0,i):\n",
        "        print(nm, end=\" \")\n",
        "    print(\"\\t\")"
      ],
      "execution_count": null,
      "outputs": [
        {
          "output_type": "stream",
          "text": [
            "5 5 5 5 5 5 5 5 5 5 \t\n",
            "5 5 5 5 5 5 5 5 5 \t\n",
            "5 5 5 5 5 5 5 5 \t\n",
            "5 5 5 5 5 5 5 \t\n",
            "5 5 5 5 5 5 \t\n",
            "5 5 5 5 5 \t\n",
            "5 5 5 5 \t\n",
            "5 5 5 \t\n",
            "5 5 \t\n",
            "5 \t\n"
          ],
          "name": "stdout"
        }
      ]
    },
    {
      "cell_type": "markdown",
      "metadata": {
        "id": "onEad4um-XfQ"
      },
      "source": [
        "**Reverse pyramid of numbers**"
      ]
    },
    {
      "cell_type": "code",
      "metadata": {
        "colab": {
          "base_uri": "https://localhost:8080/"
        },
        "id": "--W-6IhX8lGE",
        "outputId": "c93d8e99-3c69-4572-f0c5-95231dbdf2dc"
      },
      "source": [
        "val=10\n",
        "for i in range (0,10): #signifies the row count\n",
        "    for j in range (val,0,-1):\n",
        "        print(j,end=\" \")\n",
        "    print(\" \") \n",
        "    val-=1   "
      ],
      "execution_count": null,
      "outputs": [
        {
          "output_type": "stream",
          "text": [
            "10 9 8 7 6 5 4 3 2 1  \n",
            "9 8 7 6 5 4 3 2 1  \n",
            "8 7 6 5 4 3 2 1  \n",
            "7 6 5 4 3 2 1  \n",
            "6 5 4 3 2 1  \n",
            "5 4 3 2 1  \n",
            "4 3 2 1  \n",
            "3 2 1  \n",
            "2 1  \n",
            "1  \n"
          ],
          "name": "stdout"
        }
      ]
    },
    {
      "cell_type": "markdown",
      "metadata": {
        "id": "j2r6m78bMuj3"
      },
      "source": [
        "**Pyramid of even numbers**"
      ]
    },
    {
      "cell_type": "code",
      "metadata": {
        "colab": {
          "base_uri": "https://localhost:8080/"
        },
        "id": "in18ZII_AXJb",
        "outputId": "424faf76-08c0-4209-e97c-4d187b78d44e"
      },
      "source": [
        "rows = 10\n",
        "LastEvenNumber = 2 * rows\n",
        "evenNumber = LastEvenNumber\n",
        "for i in range(1, rows+1):\n",
        "    evenNumber = LastEvenNumber\n",
        "    for j in range(i):\n",
        "        print(evenNumber, end=\" \" )\n",
        "        evenNumber -= 2\n",
        "    print(\"\\r\")"
      ],
      "execution_count": null,
      "outputs": [
        {
          "output_type": "stream",
          "text": [
            "20 \r\n",
            "20 18 \r\n",
            "20 18 16 \r\n",
            "20 18 16 14 \r\n",
            "20 18 16 14 12 \r\n",
            "20 18 16 14 12 10 \r\n",
            "20 18 16 14 12 10 8 \r\n",
            "20 18 16 14 12 10 8 6 \r\n",
            "20 18 16 14 12 10 8 6 4 \r\n",
            "20 18 16 14 12 10 8 6 4 2 \r\n"
          ],
          "name": "stdout"
        }
      ]
    },
    {
      "cell_type": "markdown",
      "metadata": {
        "id": "2r_BUBefRggR"
      },
      "source": [
        "**Triangle with asterick**"
      ]
    },
    {
      "cell_type": "code",
      "metadata": {
        "id": "hkIg10A6Pt7N",
        "colab": {
          "base_uri": "https://localhost:8080/"
        },
        "outputId": "132021b0-dd66-4be6-d8d7-d4983aedfd98"
      },
      "source": [
        "\n",
        "size = 7\n",
        "\n",
        "m = 2 *(size- 2)\n",
        "\n",
        "for i in range(0, size):\n",
        "\n",
        "    for j in range(0, m):\n",
        "\n",
        "        print(end=\" \")\n",
        "\n",
        "    m = (m -1)# decrementing m after each loop\n",
        "\n",
        "    for j in range(0, i + 1):\n",
        "\n",
        "        # printing full Triangle pyramid using stars\n",
        "\n",
        "        print(\"* \", end=\" \")\n",
        "\n",
        "    print(\" \")"
      ],
      "execution_count": 64,
      "outputs": [
        {
          "output_type": "stream",
          "text": [
            "          *   \n",
            "         *  *   \n",
            "        *  *  *   \n",
            "       *  *  *  *   \n",
            "      *  *  *  *  *   \n",
            "     *  *  *  *  *  *   \n",
            "    *  *  *  *  *  *  *   \n"
          ],
          "name": "stdout"
        }
      ]
    },
    {
      "cell_type": "markdown",
      "metadata": {
        "id": "hDg7r8jFR4_e"
      },
      "source": [
        "**Inverted triangle with asterick**"
      ]
    },
    {
      "cell_type": "code",
      "metadata": {
        "colab": {
          "base_uri": "https://localhost:8080/"
        },
        "id": "hN1Bna5MOo2Z",
        "outputId": "d682ba8a-e8a2-4a70-8c27-94d26dc2d38b"
      },
      "source": [
        "rows = 5\n",
        "k = 2 *( rows -2)\n",
        "for i in range(rows, -1, -1):\n",
        "    for j in range(k, 0, -1):\n",
        "        print(end=\" \")\n",
        "    k = k + 1\n",
        "    for j in range(0, i + 1):\n",
        "        print(\"*\", end=\" \")\n",
        "    print(\" \")"
      ],
      "execution_count": null,
      "outputs": [
        {
          "output_type": "stream",
          "text": [
            "      * * * * * *  \n",
            "       * * * * *  \n",
            "        * * * *  \n",
            "         * * *  \n",
            "          * *  \n",
            "           *  \n"
          ],
          "name": "stdout"
        }
      ]
    }
  ]
}